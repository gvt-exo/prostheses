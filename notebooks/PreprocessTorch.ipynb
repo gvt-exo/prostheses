{
 "cells": [
  {
   "cell_type": "code",
   "execution_count": 2,
   "metadata": {
    "id": "ZMlzPjPolANr"
   },
   "outputs": [
    {
     "name": "stdout",
     "output_type": "stream",
     "text": [
      "The autoreload extension is already loaded. To reload it, use:\n",
      "  %reload_ext autoreload\n"
     ]
    }
   ],
   "source": [
    "import numpy as np\n",
    "import pandas as pd\n",
    "import torch\n",
    "import torch.nn as nn\n",
    "import torch.optim as optim\n",
    "from torch.utils.data import DataLoader, Dataset\n",
    "\n",
    "\n",
    "%load_ext autoreload\n",
    "%autoreload 2"
   ]
  },
  {
   "cell_type": "code",
   "execution_count": 3,
   "metadata": {
    "id": "HWrlWNoslJDT"
   },
   "outputs": [],
   "source": [
    "# Определение класса датасета\n",
    "class EMGDataset(Dataset):\n",
    "    def __init__(self, pkl_path, fixed_length=515):\n",
    "        self.data = pd.read_pickle(pkl_path)\n",
    "        self.emgs = self.data['emg'].values\n",
    "        self.labels = self.data['stimulus'].values - 1\n",
    "        self.fixed_length = fixed_length\n",
    "\n",
    "    def __len__(self):\n",
    "        return len(self.data)\n",
    "\n",
    "    def __getitem__(self, idx):\n",
    "        emg = self.emgs[idx]\n",
    "\n",
    "        if emg.shape[0] > self.fixed_length:\n",
    "            emg = emg[:self.fixed_length, :]\n",
    "        elif emg.shape[0] < self.fixed_length:\n",
    "            pad_size = self.fixed_length - emg.shape[0]\n",
    "            emg = np.pad(emg, ((0, pad_size), (0, 0)), mode='constant')\n",
    "\n",
    "        emg_tensor = torch.tensor(emg, dtype=torch.float32)\n",
    "        emg_tensor = emg_tensor.unsqueeze(0)\n",
    "        emg_tensor = emg_tensor.permute(2, 0, 1)\n",
    "\n",
    "        label = self.labels[idx]\n",
    "        return emg_tensor, label"
   ]
  },
  {
   "cell_type": "code",
   "execution_count": 4,
   "metadata": {
    "id": "A6AePHaVn9cH"
   },
   "outputs": [],
   "source": [
    "# Функция для коллации батчей с паддингом\n",
    "def collate_fn(batch):\n",
    "    inputs, labels = zip(*batch)\n",
    "\n",
    "    inputs = torch.stack(inputs)\n",
    "    labels = torch.tensor(labels, dtype=torch.long)\n",
    "    return inputs, labels"
   ]
  },
  {
   "cell_type": "code",
   "execution_count": 5,
   "metadata": {
    "id": "zHL2nDX3lJVX"
   },
   "outputs": [],
   "source": [
    "class InceptionBlock(nn.Module):\n",
    "    def __init__(self, in_channels, out_channels):\n",
    "        super(InceptionBlock, self).__init__()\n",
    "\n",
    "        self.branch1 = nn.Sequential(\n",
    "            nn.Conv2d(in_channels, 32, kernel_size=1),\n",
    "            nn.BatchNorm2d(32),\n",
    "            nn.ReLU(inplace=True)\n",
    "        )\n",
    "\n",
    "        self.branch2 = nn.Sequential(\n",
    "            nn.Conv2d(in_channels, 32, kernel_size=1),\n",
    "            nn.BatchNorm2d(32),\n",
    "            nn.ReLU(inplace=True),\n",
    "            nn.Conv2d(32, 64, kernel_size=3, padding=1),\n",
    "            nn.BatchNorm2d(64),\n",
    "            nn.ReLU(inplace=True)\n",
    "        )\n",
    "\n",
    "        self.branch3 = nn.Sequential(\n",
    "            nn.Conv2d(in_channels, 32, kernel_size=1),\n",
    "            nn.BatchNorm2d(32),\n",
    "            nn.ReLU(inplace=True),\n",
    "            nn.Conv2d(32, 64, kernel_size=5, padding=2),\n",
    "            nn.BatchNorm2d(64),\n",
    "            nn.ReLU(inplace=True)\n",
    "        )\n",
    "\n",
    "        self.branch4 = nn.Sequential(\n",
    "            nn.AvgPool2d(kernel_size=3, stride=1, padding=1),\n",
    "            nn.Conv2d(in_channels, 32, kernel_size=1),\n",
    "            nn.BatchNorm2d(32),\n",
    "            nn.ReLU(inplace=True)\n",
    "        )\n",
    "\n",
    "        self.conv_reduce = nn.Conv2d(32 + 64 + 64 + 32, out_channels, kernel_size=1)\n",
    "\n",
    "    def forward(self, x):\n",
    "        branch1 = self.branch1(x)\n",
    "        branch2 = self.branch2(x)\n",
    "        branch3 = self.branch3(x)\n",
    "        branch4 = self.branch4(x)\n",
    "\n",
    "        out = torch.cat([branch1, branch2, branch3, branch4], 1)\n",
    "\n",
    "        out = self.conv_reduce(out)\n",
    "        return out"
   ]
  },
  {
   "cell_type": "code",
   "execution_count": 6,
   "metadata": {
    "id": "rKTAlyeGlJYT"
   },
   "outputs": [],
   "source": [
    "class EMGHandNet(nn.Module):\n",
    "    def __init__(self, num_classes=53):\n",
    "        super(EMGHandNet, self).__init__()\n",
    "\n",
    "        self.features = nn.Sequential(\n",
    "            nn.Conv2d(10, 32, kernel_size=3, padding=1),\n",
    "            nn.BatchNorm2d(32),\n",
    "            nn.ReLU(inplace=True),\n",
    "            nn.AdaptiveMaxPool2d((1, 257)),\n",
    "\n",
    "            InceptionBlock(32, 64),\n",
    "            InceptionBlock(64, 128),\n",
    "            InceptionBlock(128, 128),\n",
    "\n",
    "            nn.AdaptiveAvgPool2d((1, 1))\n",
    "        )\n",
    "\n",
    "        self.classifier = nn.Sequential(\n",
    "            nn.Dropout(0.5),\n",
    "            nn.Linear(128, 128),\n",
    "            nn.ReLU(inplace=True),\n",
    "            nn.Dropout(0.5),\n",
    "            nn.Linear(128, num_classes)\n",
    "        )\n",
    "\n",
    "    def forward(self, x):\n",
    "        x = self.features(x)\n",
    "        x = x.view(x.size(0), -1)\n",
    "        x = self.classifier(x)\n",
    "        return x"
   ]
  },
  {
   "cell_type": "code",
   "execution_count": 7,
   "metadata": {
    "id": "ca-QG8c7lS_-"
   },
   "outputs": [],
   "source": [
    "# Инициализация модели\n",
    "device = torch.device(\"cuda\" if torch.cuda.is_available() else \"cpu\")\n",
    "model = EMGHandNet(num_classes=53).to(device)\n",
    "criterion = nn.CrossEntropyLoss()\n",
    "optimizer = optim.Adam(model.parameters(), lr=0.001)"
   ]
  },
  {
   "cell_type": "code",
   "execution_count": 8,
   "metadata": {
    "colab": {
     "base_uri": "https://localhost:8080/"
    },
    "id": "4p2OtCIslVSq",
    "outputId": "ab42fcdd-5b02-4600-e0cc-064bd83537a2"
   },
   "outputs": [
    {
     "name": "stderr",
     "output_type": "stream",
     "text": [
      "C:\\Users\\Administrator\\AppData\\Local\\Temp\\ipykernel_24460\\3670326725.py:6: RuntimeWarning: overflow encountered in scalar subtract\n",
      "  self.labels = self.data['stimulus'].values - 1\n"
     ]
    }
   ],
   "source": [
    "# Загрузка данных\n",
    "train_dataset = EMGDataset(r'C:\\Users\\Administrator\\OneDrive\\Рабочий стол\\projects\\prostheses\\data\\ninaprodb1train.pkl')\n",
    "train_loader = DataLoader(\n",
    "    train_dataset,\n",
    "    batch_size=32,\n",
    "    shuffle=True,\n",
    "    num_workers=4,\n",
    "    collate_fn=collate_fn\n",
    ")"
   ]
  },
  {
   "cell_type": "code",
   "execution_count": null,
   "metadata": {
    "colab": {
     "base_uri": "https://localhost:8080/"
    },
    "id": "896vtX3OlXGq",
    "outputId": "c40e0fbd-1ac8-4ce0-f26f-ade4f5bd67cd"
   },
   "outputs": [],
   "source": [
    "# Цикл обучения\n",
    "num_epochs = 50\n",
    "log_interval = 10\n",
    "running_loss = 0\n",
    "total = 0\n",
    "correct = 0\n",
    "\n",
    "for epoch in range(num_epochs):\n",
    "    for batch_idx, (inputs, labels) in enumerate(train_loader):\n",
    "        labels[labels == 255] = 0  # Заменяем 255 на 0\n",
    "        optimizer.zero_grad()\n",
    "        outputs = model(inputs)\n",
    "        loss = criterion(outputs, labels)\n",
    "        loss.backward()\n",
    "        optimizer.step()\n",
    "\n",
    "        # Выводим информацию о потере\n",
    "        if batch_idx % log_interval == 0:\n",
    "            print(f\"Train Epoch: {epoch} [{batch_idx * len(inputs)}/{len(train_loader.dataset)} \"\n",
    "                  f\"({100. * batch_idx / len(train_loader):.0f}%)]\\tLoss: {loss.item():.6f}\")\n",
    "\n",
    "    for inputs, labels in train_loader:\n",
    "        inputs = inputs.to(device)\n",
    "        labels = labels.to(device).long()\n",
    "\n",
    "        labels[labels == 255] = 0\n",
    "\n",
    "        optimizer.zero_grad()\n",
    "        outputs = model(inputs)\n",
    "\n",
    "        num_classes = 40\n",
    "        assert labels.max() < num_classes, f\"Target value {labels.max()} exceeds the number of classes!\"\n",
    "\n",
    "        loss = criterion(outputs, labels)\n",
    "        loss.backward()\n",
    "        optimizer.step()\n",
    "\n",
    "        running_loss += loss.item() * inputs.size(0)\n",
    "        _, predicted = torch.max(outputs.data, 1)\n",
    "        total += labels.size(0)\n",
    "        correct += (predicted == labels).sum().item()\n",
    "\n",
    "    epoch_loss = running_loss / total\n",
    "    epoch_acc = correct / total\n",
    "    print(f'Epoch [{epoch+1}/{num_epochs}], Loss: {epoch_loss:.4f}, Accuracy: {epoch_acc:.4f}')\n",
    "\n",
    "# Сохранение модели\n",
    "torch.save(model.state_dict(), 'emghandnet.pth')"
   ]
  }
 ],
 "metadata": {
  "colab": {
   "provenance": []
  },
  "kernelspec": {
   "display_name": "proj",
   "language": "python",
   "name": "python3"
  },
  "language_info": {
   "codemirror_mode": {
    "name": "ipython",
    "version": 3
   },
   "file_extension": ".py",
   "mimetype": "text/x-python",
   "name": "python",
   "nbconvert_exporter": "python",
   "pygments_lexer": "ipython3",
   "version": "3.11.11"
  }
 },
 "nbformat": 4,
 "nbformat_minor": 0
}
