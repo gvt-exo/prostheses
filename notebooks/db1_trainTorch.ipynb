{
 "cells": [
  {
   "cell_type": "code",
   "execution_count": null,
   "metadata": {
    "id": "LhV_OfCq1pzB"
   },
   "outputs": [
    {
     "name": "stdout",
     "output_type": "stream",
     "text": [
      "The autoreload extension is already loaded. To reload it, use:\n",
      "  %reload_ext autoreload\n"
     ]
    }
   ],
   "source": [
    "import numpy as np\n",
    "import pandas as pd\n",
    "import torch\n",
    "import torch.nn as nn\n",
    "import torch.optim as optim\n",
    "from sklearn.model_selection import train_test_split\n",
    "from torch.nn.utils.rnn import pack_padded_sequence, pad_packed_sequence\n",
    "from torch.utils.data import DataLoader, Dataset\n",
    "from tqdm import tqdm\n",
    "\n",
    "\n",
    "%load_ext autoreload\n",
    "%autoreload 2"
   ]
  },
  {
   "cell_type": "code",
   "execution_count": 12,
   "metadata": {
    "colab": {
     "base_uri": "https://localhost:8080/"
    },
    "id": "ihf5W0_c6iuc",
    "outputId": "6295fd9e-95cc-48ac-843b-9b515eb7dad0"
   },
   "outputs": [],
   "source": [
    "train_dir = r'C:\\Users\\Administrator\\OneDrive\\Рабочий стол\\projects\\prostheses\\data\\ninaprodb1train.pkl'\n",
    "test_dir = r'C:\\Users\\Administrator\\OneDrive\\Рабочий стол\\projects\\prostheses\\data\\ninaprodb1test.pkl'\n",
    "\n",
    "train_data = pd.read_pickle(train_dir)\n",
    "eval_data = pd.read_pickle(test_dir)\n",
    "\n",
    "train_data, val_data = train_test_split(train_data, test_size=0.3, random_state=21)"
   ]
  },
  {
   "cell_type": "code",
   "execution_count": 13,
   "metadata": {
    "id": "Q46mwWM25jaP"
   },
   "outputs": [],
   "source": [
    "# Кастомный класс Dataset для PyTorch\n",
    "class Nina1DatasetPyTorch(Dataset):\n",
    "    def __init__(self, dataframe):\n",
    "        self.dataframe = dataframe\n",
    "\n",
    "    def __len__(self):\n",
    "        return len(self.dataframe)\n",
    "\n",
    "    def __getitem__(self, idx):\n",
    "        row = self.dataframe.iloc[idx]\n",
    "        emg_data = row['emg']\n",
    "\n",
    "        # Обработка данных как в оригинальном классе\n",
    "        if isinstance(emg_data, list) and len(emg_data) == 1:\n",
    "            emg_data = emg_data[0]\n",
    "\n",
    "        data = emg_data[:500]\n",
    "        if len(data) < 500:\n",
    "            data = np.concatenate((data, np.zeros((500 - len(data), 10))), axis=0)\n",
    "\n",
    "        # Изменение формы данных (25, 20, 10)\n",
    "        input_data = data.reshape((25, 20, 10))\n",
    "        label = row['stimulus']\n",
    "\n",
    "        return (\n",
    "            torch.tensor(input_data, dtype=torch.float32),\n",
    "            torch.tensor(label, dtype=torch.long)\n",
    "        )"
   ]
  },
  {
   "cell_type": "code",
   "execution_count": 14,
   "metadata": {
    "id": "u-bjkTc45jcy"
   },
   "outputs": [],
   "source": [
    "class EMGHandNetPyTorch(nn.Module):\n",
    "    def __init__(self, num_classes=52):\n",
    "        super(EMGHandNetPyTorch, self).__init__()\n",
    "\n",
    "        # Модифицированная CNN часть\n",
    "        self.cnn = nn.Sequential(\n",
    "            nn.Conv1d(10, 64, kernel_size=3, stride=2, padding=1),\n",
    "            nn.Tanh(),\n",
    "            nn.MaxPool1d(kernel_size=2, stride=2),\n",
    "\n",
    "            nn.Conv1d(64, 128, kernel_size=3, stride=1, padding=1),\n",
    "            nn.Tanh(),\n",
    "            nn.BatchNorm1d(128),\n",
    "\n",
    "            nn.Conv1d(128, 256, kernel_size=3, stride=2, padding=1),\n",
    "            nn.Tanh(),\n",
    "            nn.BatchNorm1d(256),\n",
    "\n",
    "            nn.AdaptiveAvgPool1d(4),  # Фиксирует выходной размер\n",
    "            nn.Flatten()\n",
    "        )\n",
    "\n",
    "        # Bi-LSTM часть\n",
    "        self.bilstm = nn.LSTM(\n",
    "            input_size=1024,  # 256*4\n",
    "            hidden_size=200,\n",
    "            num_layers=1,  # Уменьшаем количество слоев\n",
    "            bidirectional=True,\n",
    "            batch_first=True,\n",
    "            dropout=0.2\n",
    "        )\n",
    "\n",
    "        # Полносвязные слои\n",
    "        self.fc = nn.Sequential(\n",
    "            nn.Linear(400, 512),  # 200*2 (bidirectional)\n",
    "            nn.Tanh(),\n",
    "            nn.Dropout(0.3),\n",
    "            nn.Linear(512, num_classes)\n",
    "        )\n",
    "\n",
    "    def forward(self, x):\n",
    "        batch_size = x.size(0)\n",
    "\n",
    "        # Обработка временных окон\n",
    "        x = x.view(-1, 20, 10)  # [batch*25, 20, 10]\n",
    "        x = x.permute(0, 2, 1)  # [batch*25, 10, 20]\n",
    "\n",
    "        # CNN обработка\n",
    "        x = self.cnn(x)  # [batch*25, 256*4=1024]\n",
    "\n",
    "        # Подготовка к LSTM\n",
    "        x = x.view(batch_size, 25, -1)  # [batch, 25, 1024]\n",
    "\n",
    "        # Bi-LSTM\n",
    "        x, _ = self.bilstm(x)  # [batch, 25, 400]\n",
    "        x = x[:, -1, :]  # Берем последний временной шаг\n",
    "\n",
    "        # Классификация\n",
    "        return self.fc(x)"
   ]
  },
  {
   "cell_type": "code",
   "execution_count": 22,
   "metadata": {
    "colab": {
     "base_uri": "https://localhost:8080/"
    },
    "id": "_jZ7LVZQ5jfQ",
    "outputId": "0ff4c515-baf9-42f2-b5c7-a30e78cc2038"
   },
   "outputs": [],
   "source": [
    "# Инициализация модели и оптимизатора\n",
    "device = torch.device('cuda' if torch.cuda.is_available() else 'cpu')\n",
    "model = EMGHandNetPyTorch(num_classes=52).to(device)\n",
    "optimizer = optim.Adam(model.parameters(), lr=1e-4, weight_decay=1e-5)\n",
    "criterion = nn.CrossEntropyLoss()\n",
    "scheduler = optim.lr_scheduler.StepLR(optimizer, step_size=10, gamma=0.1)"
   ]
  },
  {
   "cell_type": "code",
   "execution_count": 23,
   "metadata": {
    "id": "LJJ0IsQ15jht"
   },
   "outputs": [],
   "source": [
    "# Создание DataLoader\n",
    "def create_loaders(train_data, val_data, test_data, batch_size=16):\n",
    "    train_loader = DataLoader(\n",
    "        Nina1DatasetPyTorch(train_data),\n",
    "        batch_size=batch_size,\n",
    "        shuffle=True\n",
    "    )\n",
    "    val_loader = DataLoader(\n",
    "        Nina1DatasetPyTorch(val_data),\n",
    "        batch_size=batch_size,\n",
    "        shuffle=False\n",
    "    )\n",
    "    test_loader = DataLoader(\n",
    "        Nina1DatasetPyTorch(test_data),\n",
    "        batch_size=batch_size,\n",
    "        shuffle=False\n",
    "    )\n",
    "    return train_loader, val_loader, test_loader"
   ]
  },
  {
   "cell_type": "code",
   "execution_count": null,
   "metadata": {
    "colab": {
     "base_uri": "https://localhost:8080/"
    },
    "id": "1aA62iiO5jjy",
    "outputId": "ce7d7565-79e5-4f8e-b554-784c35f73d61"
   },
   "outputs": [
    {
     "name": "stderr",
     "output_type": "stream",
     "text": [
      "100%|██████████| 11/11 [00:00<00:00, 19.43it/s]\n"
     ]
    },
    {
     "name": "stdout",
     "output_type": "stream",
     "text": [
      "Epoch 1/20\n",
      "Train Loss: 3.9284 | Acc: 2.27%\n",
      "Val Loss: 3.9464 | Acc: 6.58%\n"
     ]
    },
    {
     "name": "stderr",
     "output_type": "stream",
     "text": [
      "100%|██████████| 11/11 [00:00<00:00, 135.68it/s]\n"
     ]
    },
    {
     "name": "stdout",
     "output_type": "stream",
     "text": [
      "Epoch 2/20\n",
      "Train Loss: 3.7897 | Acc: 9.66%\n",
      "Val Loss: 3.9260 | Acc: 2.63%\n"
     ]
    },
    {
     "name": "stderr",
     "output_type": "stream",
     "text": [
      "100%|██████████| 11/11 [00:00<00:00, 130.84it/s]\n"
     ]
    },
    {
     "name": "stdout",
     "output_type": "stream",
     "text": [
      "Epoch 3/20\n",
      "Train Loss: 3.6704 | Acc: 11.36%\n",
      "Val Loss: 3.8687 | Acc: 1.32%\n"
     ]
    },
    {
     "name": "stderr",
     "output_type": "stream",
     "text": [
      "100%|██████████| 11/11 [00:00<00:00, 151.71it/s]"
     ]
    },
    {
     "name": "stdout",
     "output_type": "stream",
     "text": [
      "Epoch 4/20\n",
      "Train Loss: 3.5603 | Acc: 9.66%\n",
      "Val Loss: 3.7585 | Acc: 1.32%\n"
     ]
    },
    {
     "name": "stderr",
     "output_type": "stream",
     "text": [
      "\n",
      "100%|██████████| 11/11 [00:00<00:00, 159.41it/s]\n"
     ]
    },
    {
     "name": "stdout",
     "output_type": "stream",
     "text": [
      "Epoch 5/20\n",
      "Train Loss: 3.4694 | Acc: 10.80%\n",
      "Val Loss: 3.6348 | Acc: 2.63%\n"
     ]
    },
    {
     "name": "stderr",
     "output_type": "stream",
     "text": [
      "100%|██████████| 11/11 [00:00<00:00, 142.86it/s]\n"
     ]
    },
    {
     "name": "stdout",
     "output_type": "stream",
     "text": [
      "Epoch 6/20\n",
      "Train Loss: 3.3566 | Acc: 10.80%\n",
      "Val Loss: 3.5190 | Acc: 3.95%\n"
     ]
    },
    {
     "name": "stderr",
     "output_type": "stream",
     "text": [
      "100%|██████████| 11/11 [00:00<00:00, 147.45it/s]\n"
     ]
    },
    {
     "name": "stdout",
     "output_type": "stream",
     "text": [
      "Epoch 7/20\n",
      "Train Loss: 3.2680 | Acc: 13.07%\n",
      "Val Loss: 3.4330 | Acc: 6.58%\n"
     ]
    },
    {
     "name": "stderr",
     "output_type": "stream",
     "text": [
      "100%|██████████| 11/11 [00:00<00:00, 145.66it/s]\n"
     ]
    },
    {
     "name": "stdout",
     "output_type": "stream",
     "text": [
      "Epoch 8/20\n",
      "Train Loss: 3.1437 | Acc: 17.05%\n",
      "Val Loss: 3.3491 | Acc: 6.58%\n"
     ]
    },
    {
     "name": "stderr",
     "output_type": "stream",
     "text": [
      "100%|██████████| 11/11 [00:00<00:00, 143.75it/s]"
     ]
    },
    {
     "name": "stdout",
     "output_type": "stream",
     "text": [
      "Epoch 9/20\n",
      "Train Loss: 3.0746 | Acc: 24.43%\n",
      "Val Loss: 3.2825 | Acc: 10.53%\n"
     ]
    },
    {
     "name": "stderr",
     "output_type": "stream",
     "text": [
      "\n",
      "100%|██████████| 11/11 [00:00<00:00, 147.63it/s]"
     ]
    },
    {
     "name": "stdout",
     "output_type": "stream",
     "text": [
      "Epoch 10/20\n",
      "Train Loss: 2.9368 | Acc: 23.30%\n",
      "Val Loss: 3.1785 | Acc: 13.16%\n"
     ]
    },
    {
     "name": "stderr",
     "output_type": "stream",
     "text": [
      "\n",
      "100%|██████████| 11/11 [00:00<00:00, 145.96it/s]\n"
     ]
    },
    {
     "name": "stdout",
     "output_type": "stream",
     "text": [
      "Epoch 11/20\n",
      "Train Loss: 2.8477 | Acc: 27.27%\n",
      "Val Loss: 3.1671 | Acc: 13.16%\n"
     ]
    },
    {
     "name": "stderr",
     "output_type": "stream",
     "text": [
      "100%|██████████| 11/11 [00:00<00:00, 136.60it/s]\n"
     ]
    },
    {
     "name": "stdout",
     "output_type": "stream",
     "text": [
      "Epoch 12/20\n",
      "Train Loss: 2.8350 | Acc: 32.95%\n",
      "Val Loss: 3.1545 | Acc: 14.47%\n"
     ]
    },
    {
     "name": "stderr",
     "output_type": "stream",
     "text": [
      "100%|██████████| 11/11 [00:00<00:00, 150.40it/s]\n"
     ]
    },
    {
     "name": "stdout",
     "output_type": "stream",
     "text": [
      "Epoch 13/20\n",
      "Train Loss: 2.8369 | Acc: 28.98%\n",
      "Val Loss: 3.1434 | Acc: 14.47%\n"
     ]
    },
    {
     "name": "stderr",
     "output_type": "stream",
     "text": [
      "100%|██████████| 11/11 [00:00<00:00, 142.82it/s]\n"
     ]
    },
    {
     "name": "stdout",
     "output_type": "stream",
     "text": [
      "Epoch 14/20\n",
      "Train Loss: 2.8084 | Acc: 25.00%\n",
      "Val Loss: 3.1334 | Acc: 13.16%\n"
     ]
    },
    {
     "name": "stderr",
     "output_type": "stream",
     "text": [
      "100%|██████████| 11/11 [00:00<00:00, 142.51it/s]\n"
     ]
    },
    {
     "name": "stdout",
     "output_type": "stream",
     "text": [
      "Epoch 15/20\n",
      "Train Loss: 2.7896 | Acc: 27.84%\n",
      "Val Loss: 3.1234 | Acc: 14.47%\n"
     ]
    },
    {
     "name": "stderr",
     "output_type": "stream",
     "text": [
      "100%|██████████| 11/11 [00:00<00:00, 148.64it/s]\n"
     ]
    },
    {
     "name": "stdout",
     "output_type": "stream",
     "text": [
      "Epoch 16/20\n",
      "Train Loss: 2.7706 | Acc: 28.98%\n",
      "Val Loss: 3.1142 | Acc: 14.47%\n"
     ]
    },
    {
     "name": "stderr",
     "output_type": "stream",
     "text": [
      "100%|██████████| 11/11 [00:00<00:00, 144.74it/s]\n"
     ]
    },
    {
     "name": "stdout",
     "output_type": "stream",
     "text": [
      "Epoch 17/20\n",
      "Train Loss: 2.7582 | Acc: 30.68%\n",
      "Val Loss: 3.1058 | Acc: 14.47%\n"
     ]
    },
    {
     "name": "stderr",
     "output_type": "stream",
     "text": [
      "100%|██████████| 11/11 [00:00<00:00, 147.63it/s]\n"
     ]
    },
    {
     "name": "stdout",
     "output_type": "stream",
     "text": [
      "Epoch 18/20\n",
      "Train Loss: 2.7725 | Acc: 23.86%\n",
      "Val Loss: 3.0938 | Acc: 14.47%\n"
     ]
    },
    {
     "name": "stderr",
     "output_type": "stream",
     "text": [
      "100%|██████████| 11/11 [00:00<00:00, 117.46it/s]\n"
     ]
    },
    {
     "name": "stdout",
     "output_type": "stream",
     "text": [
      "Epoch 19/20\n",
      "Train Loss: 2.7664 | Acc: 27.27%\n",
      "Val Loss: 3.0830 | Acc: 14.47%\n"
     ]
    },
    {
     "name": "stderr",
     "output_type": "stream",
     "text": [
      "100%|██████████| 11/11 [00:00<00:00, 146.67it/s]"
     ]
    },
    {
     "name": "stdout",
     "output_type": "stream",
     "text": [
      "Epoch 20/20\n",
      "Train Loss: 2.7178 | Acc: 30.11%\n",
      "Val Loss: 3.0758 | Acc: 14.47%\n"
     ]
    },
    {
     "name": "stderr",
     "output_type": "stream",
     "text": [
      "\n"
     ]
    }
   ],
   "source": [
    "# Обучение модели\n",
    "def train_model(model, train_loader, val_loader, epochs=20):\n",
    "    for epoch in range(epochs):\n",
    "        model.train()\n",
    "        train_loss = 0.0\n",
    "        correct = 0\n",
    "        total = 0\n",
    "\n",
    "        for inputs, labels in tqdm(train_loader):\n",
    "            inputs, labels = inputs.to(device), labels.to(device)\n",
    "\n",
    "            optimizer.zero_grad()\n",
    "            outputs = model(inputs)\n",
    "            loss = criterion(outputs, labels)\n",
    "            loss.backward()\n",
    "            torch.nn.utils.clip_grad_norm_(model.parameters(), 1.0)\n",
    "            optimizer.step()\n",
    "\n",
    "            train_loss += loss.item()\n",
    "            _, predicted = outputs.max(1)\n",
    "            total += labels.size(0)\n",
    "            correct += predicted.eq(labels).sum().item()\n",
    "\n",
    "        # Валидация\n",
    "        val_loss = 0.0\n",
    "        val_correct = 0\n",
    "        val_total = 0\n",
    "        model.eval()\n",
    "        with torch.no_grad():\n",
    "            for inputs, labels in val_loader:\n",
    "                inputs, labels = inputs.to(device), labels.to(device)\n",
    "                outputs = model(inputs)\n",
    "                loss = criterion(outputs, labels)\n",
    "\n",
    "                val_loss += loss.item()\n",
    "                _, predicted = outputs.max(1)\n",
    "                val_total += labels.size(0)\n",
    "                val_correct += predicted.eq(labels).sum().item()\n",
    "\n",
    "        # Обновление learning rate\n",
    "        scheduler.step()\n",
    "\n",
    "        # Печать статистики\n",
    "        print(f'Epoch {epoch+1}/{epochs}')\n",
    "        print(f'Train Loss: {train_loss/len(train_loader):.4f} | Acc: {100.*correct/total:.2f}%')\n",
    "        print(f'Val Loss: {val_loss/len(val_loader):.4f} | Acc: {100.*val_correct/val_total:.2f}%')\n",
    "\n",
    "\n",
    "# Использование:\n",
    "train_loader, val_loader, test_loader = create_loaders(train_data, val_data, eval_data)\n",
    "train_model(model, train_loader, val_loader, epochs=20)\n",
    "\n"
   ]
  }
 ],
 "metadata": {
  "colab": {
   "provenance": []
  },
  "kernelspec": {
   "display_name": "proj",
   "language": "python",
   "name": "python3"
  },
  "language_info": {
   "codemirror_mode": {
    "name": "ipython",
    "version": 3
   },
   "file_extension": ".py",
   "mimetype": "text/x-python",
   "name": "python",
   "nbconvert_exporter": "python",
   "pygments_lexer": "ipython3",
   "version": "3.11.11"
  }
 },
 "nbformat": 4,
 "nbformat_minor": 0
}
